{
 "cells": [
  {
   "cell_type": "markdown",
   "metadata": {},
   "source": [
    "# Introduction to Attention"
   ]
  },
  {
   "cell_type": "markdown",
   "metadata": {},
   "source": [
    "Attention is a mechanism that helps models focus on important parts of an input.\n",
    "\n",
    "Imagine a chatbot that processes the sentence: \"The cat sat on the mat.\"; If we ask, \"Where did the cat sit?\", the chatbot should focus on the words \"sat\" and \"mat\" instead of other words.\n",
    "Self-attention helps achieve this dynamically by computing relevance scores.\n",
    "\n",
    "\n",
    "Mathematically, we want to map a Query (Q) and a set of Key (K) and Value (V) pairs to an output. or in simpler terms, we want to find the most relevant value (V) eg. \"mat\" given the query (Q) eg. \"cat\" and the key (K) eg. \"sat\".\n"
   ]
  },
  {
   "cell_type": "markdown",
   "metadata": {},
   "source": [
    "## Step 1: Compute the relevance scores between the Query (Q) and the Key (K)\n"
   ]
  },
  {
   "cell_type": "markdown",
   "metadata": {},
   "source": [
    "This is done by taking the dot product of the Query (Q) and the Key (K) because the dot product \n",
    "gives us a measure of similarity between two vectors.\n",
    "\n",
    "Example:\n",
    "If two vectors are pointing in the same direction, their dot product is large (high similarity).\n",
    "If they are perpendicular, the dot product is small (low similarity).\n",
    "\n",
    "Mathematically:\n",
    "\n",
    "$$ scores = QK^T$$\n",
    "\n",
    "Where:\n",
    "- Q is the Query matrix\n",
    "- K is the Key matrix\n",
    "- T denotes the transpose operation\n",
    "\n",
    "> Transpose operation is used to ensure that the dimensions of the matrices are compatible for multiplication.\n",
    "\n",
    "Each element in the resulting matrix represents how much focus should be given\n",
    "to a word when processing another word.\n"
   ]
  },
  {
   "cell_type": "code",
   "execution_count": 79,
   "metadata": {},
   "outputs": [],
   "source": [
    "# import relevant packages\n",
    "import numpy as np\n",
    "from matplotlib import pyplot as plt\n",
    "import seaborn as sns\n",
    "from rich import print"
   ]
  },
  {
   "cell_type": "code",
   "execution_count": 80,
   "metadata": {},
   "outputs": [],
   "source": [
    "def compute_attention_scores(Q, K):\n",
    "    return np.dot(Q, K.T)  # Compute dot product\n"
   ]
  },
  {
   "cell_type": "code",
   "execution_count": 81,
   "metadata": {},
   "outputs": [
    {
     "data": {
      "text/html": [
       "<pre style=\"white-space:pre;overflow-x:auto;line-height:normal;font-family:Menlo,'DejaVu Sans Mono',consolas,'Courier New',monospace\">Dot Product Similarity Examples:\n",
       "</pre>\n"
      ],
      "text/plain": [
       "Dot Product Similarity Examples:\n"
      ]
     },
     "metadata": {},
     "output_type": "display_data"
    },
    {
     "data": {
      "text/html": [
       "<pre style=\"white-space:pre;overflow-x:auto;line-height:normal;font-family:Menlo,'DejaVu Sans Mono',consolas,'Courier New',monospace\">cat · dog <span style=\"font-weight: bold\">(</span>High Similarity<span style=\"font-weight: bold\">)</span>: <span style=\"color: #008080; text-decoration-color: #008080; font-weight: bold\">13</span>\n",
       "</pre>\n"
      ],
      "text/plain": [
       "cat · dog \u001b[1m(\u001b[0mHigh Similarity\u001b[1m)\u001b[0m: \u001b[1;36m13\u001b[0m\n"
      ]
     },
     "metadata": {},
     "output_type": "display_data"
    },
    {
     "data": {
      "text/html": [
       "<pre style=\"white-space:pre;overflow-x:auto;line-height:normal;font-family:Menlo,'DejaVu Sans Mono',consolas,'Courier New',monospace\">cat · table <span style=\"font-weight: bold\">(</span>Opposite Direction - Low Similarity<span style=\"font-weight: bold\">)</span>: <span style=\"color: #008080; text-decoration-color: #008080; font-weight: bold\">-14</span>\n",
       "</pre>\n"
      ],
      "text/plain": [
       "cat · table \u001b[1m(\u001b[0mOpposite Direction - Low Similarity\u001b[1m)\u001b[0m: \u001b[1;36m-14\u001b[0m\n"
      ]
     },
     "metadata": {},
     "output_type": "display_data"
    },
    {
     "data": {
      "text/html": [
       "<pre style=\"white-space:pre;overflow-x:auto;line-height:normal;font-family:Menlo,'DejaVu Sans Mono',consolas,'Courier New',monospace\">cat · sit <span style=\"font-weight: bold\">(</span>Different Direction - Medium Similarity<span style=\"font-weight: bold\">)</span>: <span style=\"color: #008080; text-decoration-color: #008080; font-weight: bold\">10</span>\n",
       "</pre>\n"
      ],
      "text/plain": [
       "cat · sit \u001b[1m(\u001b[0mDifferent Direction - Medium Similarity\u001b[1m)\u001b[0m: \u001b[1;36m10\u001b[0m\n"
      ]
     },
     "metadata": {},
     "output_type": "display_data"
    }
   ],
   "source": [
    "\n",
    "# Example to demonstrate dot product and similarity\n",
    "cat = np.array([1, 2, 3])\n",
    "dog = np.array([1, 3, 2]) # Similar to cat (animals, pets, mammals) (High Similarity)\n",
    "table = np.array([-1, -2, -3]) # Very different from cat (objects, furniture) (Low Similarity)\n",
    "sit = np.array([3, 2, 1]) # somewhat related to cat (actions, verbs) (Medium Similarity)\n",
    "\n",
    "print(\"Dot Product Similarity Examples:\")\n",
    "print(\"cat · dog (High Similarity):\", np.dot(cat, dog))\n",
    "print(\"cat · table (Opposite Direction - Low Similarity):\", np.dot(cat, table))\n",
    "print(\"cat · sit (Different Direction - Medium Similarity):\", np.dot(cat, sit))\n",
    "\n"
   ]
  },
  {
   "cell_type": "code",
   "execution_count": 82,
   "metadata": {},
   "outputs": [],
   "source": [
    "word_vectors = np.array([cat, dog, table, sit])\n",
    "words = ['cat', 'dog', 'table', 'sit']"
   ]
  },
  {
   "cell_type": "code",
   "execution_count": 83,
   "metadata": {},
   "outputs": [
    {
     "data": {
      "text/html": [
       "<pre style=\"white-space:pre;overflow-x:auto;line-height:normal;font-family:Menlo,'DejaVu Sans Mono',consolas,'Courier New',monospace\">Dot Product Similarity Matrix: \n",
       "<span style=\"font-weight: bold\">[[</span> <span style=\"color: #008080; text-decoration-color: #008080; font-weight: bold\">14</span>  <span style=\"color: #008080; text-decoration-color: #008080; font-weight: bold\">13</span> <span style=\"color: #008080; text-decoration-color: #008080; font-weight: bold\">-14</span>  <span style=\"color: #008080; text-decoration-color: #008080; font-weight: bold\">10</span><span style=\"font-weight: bold\">]</span>\n",
       " <span style=\"font-weight: bold\">[</span> <span style=\"color: #008080; text-decoration-color: #008080; font-weight: bold\">13</span>  <span style=\"color: #008080; text-decoration-color: #008080; font-weight: bold\">14</span> <span style=\"color: #008080; text-decoration-color: #008080; font-weight: bold\">-13</span>  <span style=\"color: #008080; text-decoration-color: #008080; font-weight: bold\">11</span><span style=\"font-weight: bold\">]</span>\n",
       " <span style=\"font-weight: bold\">[</span><span style=\"color: #008080; text-decoration-color: #008080; font-weight: bold\">-14</span> <span style=\"color: #008080; text-decoration-color: #008080; font-weight: bold\">-13</span>  <span style=\"color: #008080; text-decoration-color: #008080; font-weight: bold\">14</span> <span style=\"color: #008080; text-decoration-color: #008080; font-weight: bold\">-10</span><span style=\"font-weight: bold\">]</span>\n",
       " <span style=\"font-weight: bold\">[</span> <span style=\"color: #008080; text-decoration-color: #008080; font-weight: bold\">10</span>  <span style=\"color: #008080; text-decoration-color: #008080; font-weight: bold\">11</span> <span style=\"color: #008080; text-decoration-color: #008080; font-weight: bold\">-10</span>  <span style=\"color: #008080; text-decoration-color: #008080; font-weight: bold\">14</span><span style=\"font-weight: bold\">]]</span>\n",
       "</pre>\n"
      ],
      "text/plain": [
       "Dot Product Similarity Matrix: \n",
       "\u001b[1m[\u001b[0m\u001b[1m[\u001b[0m \u001b[1;36m14\u001b[0m  \u001b[1;36m13\u001b[0m \u001b[1;36m-14\u001b[0m  \u001b[1;36m10\u001b[0m\u001b[1m]\u001b[0m\n",
       " \u001b[1m[\u001b[0m \u001b[1;36m13\u001b[0m  \u001b[1;36m14\u001b[0m \u001b[1;36m-13\u001b[0m  \u001b[1;36m11\u001b[0m\u001b[1m]\u001b[0m\n",
       " \u001b[1m[\u001b[0m\u001b[1;36m-14\u001b[0m \u001b[1;36m-13\u001b[0m  \u001b[1;36m14\u001b[0m \u001b[1;36m-10\u001b[0m\u001b[1m]\u001b[0m\n",
       " \u001b[1m[\u001b[0m \u001b[1;36m10\u001b[0m  \u001b[1;36m11\u001b[0m \u001b[1;36m-10\u001b[0m  \u001b[1;36m14\u001b[0m\u001b[1m]\u001b[0m\u001b[1m]\u001b[0m\n"
      ]
     },
     "metadata": {},
     "output_type": "display_data"
    }
   ],
   "source": [
    "scores_unscaled = compute_attention_scores(word_vectors, word_vectors)\n",
    "\n",
    "\n",
    "print(f\"Dot Product Similarity Matrix: \\n{scores_unscaled}\")\n"
   ]
  },
  {
   "cell_type": "markdown",
   "metadata": {},
   "source": [
    "# Step 1.1: Apply Scaling to the Scores\n",
    "\n",
    "One issue with dot product attention is that as the vector size (d_k) increases,\n",
    "the values in the dot product become large, leading to extreme softmax outputs (output from the next step).\n",
    "This can cause small gradients, making training unstable.\n",
    "\n",
    "To prevent this, we scale the attention scores by multiplying by the inverse square root of the dimension of the Key vector (d_k).\n",
    "\n",
    "Mathematically:\n",
    "\n",
    "$$ scores = QK^T * \\frac{1}{\\sqrt{d_k}}$$\n",
    "\n",
    "\n",
    "This keeps the values in a reasonable range before applying softmax."
   ]
  },
  {
   "cell_type": "code",
   "execution_count": 84,
   "metadata": {},
   "outputs": [],
   "source": [
    "def compute_scaled_attention_scores(Q, K, d_k):\n",
    "    # return np.dot(Q, K.T) / np.sqrt(d_k)  # Apply scaling factor\n",
    "    return np.dot(Q, K.T) * (1/np.sqrt(d_k))  # Apply scaling factor\n"
   ]
  },
  {
   "cell_type": "code",
   "execution_count": 85,
   "metadata": {},
   "outputs": [
    {
     "data": {
      "text/html": [
       "<pre style=\"white-space:pre;overflow-x:auto;line-height:normal;font-family:Menlo,'DejaVu Sans Mono',consolas,'Courier New',monospace\">unscaled attention scores: \n",
       "<span style=\"font-weight: bold\">[[</span> <span style=\"color: #008080; text-decoration-color: #008080; font-weight: bold\">14</span>  <span style=\"color: #008080; text-decoration-color: #008080; font-weight: bold\">13</span> <span style=\"color: #008080; text-decoration-color: #008080; font-weight: bold\">-14</span>  <span style=\"color: #008080; text-decoration-color: #008080; font-weight: bold\">10</span><span style=\"font-weight: bold\">]</span>\n",
       " <span style=\"font-weight: bold\">[</span> <span style=\"color: #008080; text-decoration-color: #008080; font-weight: bold\">13</span>  <span style=\"color: #008080; text-decoration-color: #008080; font-weight: bold\">14</span> <span style=\"color: #008080; text-decoration-color: #008080; font-weight: bold\">-13</span>  <span style=\"color: #008080; text-decoration-color: #008080; font-weight: bold\">11</span><span style=\"font-weight: bold\">]</span>\n",
       " <span style=\"font-weight: bold\">[</span><span style=\"color: #008080; text-decoration-color: #008080; font-weight: bold\">-14</span> <span style=\"color: #008080; text-decoration-color: #008080; font-weight: bold\">-13</span>  <span style=\"color: #008080; text-decoration-color: #008080; font-weight: bold\">14</span> <span style=\"color: #008080; text-decoration-color: #008080; font-weight: bold\">-10</span><span style=\"font-weight: bold\">]</span>\n",
       " <span style=\"font-weight: bold\">[</span> <span style=\"color: #008080; text-decoration-color: #008080; font-weight: bold\">10</span>  <span style=\"color: #008080; text-decoration-color: #008080; font-weight: bold\">11</span> <span style=\"color: #008080; text-decoration-color: #008080; font-weight: bold\">-10</span>  <span style=\"color: #008080; text-decoration-color: #008080; font-weight: bold\">14</span><span style=\"font-weight: bold\">]]</span>\n",
       "</pre>\n"
      ],
      "text/plain": [
       "unscaled attention scores: \n",
       "\u001b[1m[\u001b[0m\u001b[1m[\u001b[0m \u001b[1;36m14\u001b[0m  \u001b[1;36m13\u001b[0m \u001b[1;36m-14\u001b[0m  \u001b[1;36m10\u001b[0m\u001b[1m]\u001b[0m\n",
       " \u001b[1m[\u001b[0m \u001b[1;36m13\u001b[0m  \u001b[1;36m14\u001b[0m \u001b[1;36m-13\u001b[0m  \u001b[1;36m11\u001b[0m\u001b[1m]\u001b[0m\n",
       " \u001b[1m[\u001b[0m\u001b[1;36m-14\u001b[0m \u001b[1;36m-13\u001b[0m  \u001b[1;36m14\u001b[0m \u001b[1;36m-10\u001b[0m\u001b[1m]\u001b[0m\n",
       " \u001b[1m[\u001b[0m \u001b[1;36m10\u001b[0m  \u001b[1;36m11\u001b[0m \u001b[1;36m-10\u001b[0m  \u001b[1;36m14\u001b[0m\u001b[1m]\u001b[0m\u001b[1m]\u001b[0m\n"
      ]
     },
     "metadata": {},
     "output_type": "display_data"
    },
    {
     "data": {
      "text/html": [
       "<pre style=\"white-space:pre;overflow-x:auto;line-height:normal;font-family:Menlo,'DejaVu Sans Mono',consolas,'Courier New',monospace\">Scaled Attention Scores: \n",
       "<span style=\"font-weight: bold\">[[</span> <span style=\"color: #008080; text-decoration-color: #008080; font-weight: bold\">8.08290377</span>  <span style=\"color: #008080; text-decoration-color: #008080; font-weight: bold\">7.5055535</span>  <span style=\"color: #008080; text-decoration-color: #008080; font-weight: bold\">-8.08290377</span>  <span style=\"color: #008080; text-decoration-color: #008080; font-weight: bold\">5.77350269</span><span style=\"font-weight: bold\">]</span>\n",
       " <span style=\"font-weight: bold\">[</span> <span style=\"color: #008080; text-decoration-color: #008080; font-weight: bold\">7.5055535</span>   <span style=\"color: #008080; text-decoration-color: #008080; font-weight: bold\">8.08290377</span> <span style=\"color: #008080; text-decoration-color: #008080; font-weight: bold\">-7.5055535</span>   <span style=\"color: #008080; text-decoration-color: #008080; font-weight: bold\">6.35085296</span><span style=\"font-weight: bold\">]</span>\n",
       " <span style=\"font-weight: bold\">[</span><span style=\"color: #008080; text-decoration-color: #008080; font-weight: bold\">-8.08290377</span> <span style=\"color: #008080; text-decoration-color: #008080; font-weight: bold\">-7.5055535</span>   <span style=\"color: #008080; text-decoration-color: #008080; font-weight: bold\">8.08290377</span> <span style=\"color: #008080; text-decoration-color: #008080; font-weight: bold\">-5.77350269</span><span style=\"font-weight: bold\">]</span>\n",
       " <span style=\"font-weight: bold\">[</span> <span style=\"color: #008080; text-decoration-color: #008080; font-weight: bold\">5.77350269</span>  <span style=\"color: #008080; text-decoration-color: #008080; font-weight: bold\">6.35085296</span> <span style=\"color: #008080; text-decoration-color: #008080; font-weight: bold\">-5.77350269</span>  <span style=\"color: #008080; text-decoration-color: #008080; font-weight: bold\">8.08290377</span><span style=\"font-weight: bold\">]]</span>\n",
       "</pre>\n"
      ],
      "text/plain": [
       "Scaled Attention Scores: \n",
       "\u001b[1m[\u001b[0m\u001b[1m[\u001b[0m \u001b[1;36m8.08290377\u001b[0m  \u001b[1;36m7.5055535\u001b[0m  \u001b[1;36m-8.08290377\u001b[0m  \u001b[1;36m5.77350269\u001b[0m\u001b[1m]\u001b[0m\n",
       " \u001b[1m[\u001b[0m \u001b[1;36m7.5055535\u001b[0m   \u001b[1;36m8.08290377\u001b[0m \u001b[1;36m-7.5055535\u001b[0m   \u001b[1;36m6.35085296\u001b[0m\u001b[1m]\u001b[0m\n",
       " \u001b[1m[\u001b[0m\u001b[1;36m-8.08290377\u001b[0m \u001b[1;36m-7.5055535\u001b[0m   \u001b[1;36m8.08290377\u001b[0m \u001b[1;36m-5.77350269\u001b[0m\u001b[1m]\u001b[0m\n",
       " \u001b[1m[\u001b[0m \u001b[1;36m5.77350269\u001b[0m  \u001b[1;36m6.35085296\u001b[0m \u001b[1;36m-5.77350269\u001b[0m  \u001b[1;36m8.08290377\u001b[0m\u001b[1m]\u001b[0m\u001b[1m]\u001b[0m\n"
      ]
     },
     "metadata": {},
     "output_type": "display_data"
    }
   ],
   "source": [
    "scaled_scores = compute_scaled_attention_scores(word_vectors, word_vectors, d_k=3)\n",
    "print(f\"unscaled attention scores: \\n{scores_unscaled}\")\n",
    "\n",
    "\n",
    "print(f\"Scaled Attention Scores: \\n{scaled_scores}\")\n",
    "\n"
   ]
  },
  {
   "cell_type": "markdown",
   "metadata": {},
   "source": [
    "## step 2: Normalize the scores\n",
    "\n",
    "Now that we have the relevance scores, we need to normalize them so that they are between 0 and 1.\n",
    "\n",
    "> 0 means the word is not important, and 1 means the word is very important.\n",
    "\n",
    "This is done using the softmax function, which squashes the scores between 0 and 1.\n",
    "\n",
    "matheamtically:\n",
    "\n",
    "$$ softmax(x_i) = \\frac{e^{x_i}}{\\sum_j e^{x_j}} $$\n",
    "\n",
    "Where:\n",
    "- e is the exponential function\n",
    "- x_i is the raw score for a particular word (ie the i-th word)\n",
    "- j is the total number of words\n",
    "- the denominator is the sum of the exponential scores of all words and ensures that the scores sum to 1.\n"
   ]
  },
  {
   "cell_type": "code",
   "execution_count": 86,
   "metadata": {},
   "outputs": [],
   "source": [
    "def softmax(attention_scores):\n",
    "    \"\"\"Compute softmax values for each row of attention_scores.\"\"\"\n",
    "    \n",
    "    exp_x = np.exp(attention_scores - np.max(attention_scores))  # Subtract maximium value of x to prevent overflow\n",
    "    return exp_x / np.sum(exp_x,axis=1, keepdims=True)  # Compute softmax values for each sets of scores in attention_scores\n"
   ]
  },
  {
   "cell_type": "code",
   "execution_count": 87,
   "metadata": {},
   "outputs": [
    {
     "data": {
      "text/html": [
       "<pre style=\"white-space:pre;overflow-x:auto;line-height:normal;font-family:Menlo,'DejaVu Sans Mono',consolas,'Courier New',monospace\">\n",
       "Softmax Scores:\n",
       "</pre>\n"
      ],
      "text/plain": [
       "\n",
       "Softmax Scores:\n"
      ]
     },
     "metadata": {},
     "output_type": "display_data"
    },
    {
     "data": {
      "text/html": [
       "<pre style=\"white-space:pre;overflow-x:auto;line-height:normal;font-family:Menlo,'DejaVu Sans Mono',consolas,'Courier New',monospace\"><span style=\"font-weight: bold\">[[</span><span style=\"color: #008080; text-decoration-color: #008080; font-weight: bold\">6.02154003e-01</span> <span style=\"color: #008080; text-decoration-color: #008080; font-weight: bold\">3.38039571e-01</span> <span style=\"color: #008080; text-decoration-color: #008080; font-weight: bold\">5.74098707e-08</span> <span style=\"color: #008080; text-decoration-color: #008080; font-weight: bold\">5.98063687e-02</span><span style=\"font-weight: bold\">]</span>\n",
       " <span style=\"font-weight: bold\">[</span><span style=\"color: #008080; text-decoration-color: #008080; font-weight: bold\">3.22948976e-01</span> <span style=\"color: #008080; text-decoration-color: #008080; font-weight: bold\">5.75272943e-01</span> <span style=\"color: #008080; text-decoration-color: #008080; font-weight: bold\">9.76996427e-08</span> <span style=\"color: #008080; text-decoration-color: #008080; font-weight: bold\">1.01777983e-01</span><span style=\"font-weight: bold\">]</span>\n",
       " <span style=\"font-weight: bold\">[</span><span style=\"color: #008080; text-decoration-color: #008080; font-weight: bold\">9.53407269e-08</span> <span style=\"color: #008080; text-decoration-color: #008080; font-weight: bold\">1.69831598e-07</span> <span style=\"color: #008080; text-decoration-color: #008080; font-weight: bold\">9.99998775e-01</span> <span style=\"color: #008080; text-decoration-color: #008080; font-weight: bold\">9.59927875e-07</span><span style=\"font-weight: bold\">]</span>\n",
       " <span style=\"font-weight: bold\">[</span><span style=\"color: #008080; text-decoration-color: #008080; font-weight: bold\">7.78227408e-02</span> <span style=\"color: #008080; text-decoration-color: #008080; font-weight: bold\">1.38626596e-01</span> <span style=\"color: #008080; text-decoration-color: #008080; font-weight: bold\">7.52152323e-07</span> <span style=\"color: #008080; text-decoration-color: #008080; font-weight: bold\">7.83549912e-01</span><span style=\"font-weight: bold\">]]</span>\n",
       "</pre>\n"
      ],
      "text/plain": [
       "\u001b[1m[\u001b[0m\u001b[1m[\u001b[0m\u001b[1;36m6.02154003e-01\u001b[0m \u001b[1;36m3.38039571e-01\u001b[0m \u001b[1;36m5.74098707e-08\u001b[0m \u001b[1;36m5.98063687e-02\u001b[0m\u001b[1m]\u001b[0m\n",
       " \u001b[1m[\u001b[0m\u001b[1;36m3.22948976e-01\u001b[0m \u001b[1;36m5.75272943e-01\u001b[0m \u001b[1;36m9.76996427e-08\u001b[0m \u001b[1;36m1.01777983e-01\u001b[0m\u001b[1m]\u001b[0m\n",
       " \u001b[1m[\u001b[0m\u001b[1;36m9.53407269e-08\u001b[0m \u001b[1;36m1.69831598e-07\u001b[0m \u001b[1;36m9.99998775e-01\u001b[0m \u001b[1;36m9.59927875e-07\u001b[0m\u001b[1m]\u001b[0m\n",
       " \u001b[1m[\u001b[0m\u001b[1;36m7.78227408e-02\u001b[0m \u001b[1;36m1.38626596e-01\u001b[0m \u001b[1;36m7.52152323e-07\u001b[0m \u001b[1;36m7.83549912e-01\u001b[0m\u001b[1m]\u001b[0m\u001b[1m]\u001b[0m\n"
      ]
     },
     "metadata": {},
     "output_type": "display_data"
    },
    {
     "data": {
      "image/png": "[encoded data removed]",
      "text/plain": [
       "<Figure size 600x500 with 2 Axes>"
      ]
     },
     "metadata": {},
     "output_type": "display_data"
    }
   ],
   "source": [
    "scores = scaled_scores\n",
    "softmax_scores = softmax(scores)\n",
    "print(\"\\nSoftmax Scores:\")\n",
    "print(softmax_scores)\n",
    "\n",
    "\n",
    "# Plot similarity grid\n",
    "plt.figure(figsize=(6, 5))\n",
    "sns.heatmap(softmax_scores, annot=True, cmap=\"Blues\", xticklabels=words, yticklabels=words, cbar=True)\n",
    "plt.xlabel(\"Keys\")\n",
    "plt.ylabel(\"Queries\")\n",
    "plt.title(\"Relevance of words to each other based on attention scores\")\n",
    "plt.show()"
   ]
  },
  {
   "cell_type": "markdown",
   "metadata": {},
   "source": [
    "# Step 3: Compute the weighted sum of the values (V)\n",
    "\n",
    "\n",
    "Now that we have the normalized attention scores, we need to use them to generate a meaningful representation.\n",
    "\n",
    "Each word has an associated value vector (V). The attention scores tell us how much each word should contribute\n",
    "to the final representation.\n",
    "\n",
    "To compute the final representation for a word, we take a **weighted sum** of all value vectors (V),\n",
    "where the weights are the attention scores.\n",
    "\n",
    "matheamtically:\n",
    "\n",
    "$$ output = attention\\_weights * V $$\n",
    "\n",
    "Where:\n",
    "\n",
    "- attention_weights are the normalized attention scores\n",
    "- V is the value matrix\n",
    "- output is the final representation of the word\n",
    "  \n",
    "This step allows the model to dynamically highlight the most relevant parts of the input.\n",
    "If a word is important, its value vector contributes more to the output.\n"
   ]
  },
  {
   "cell_type": "code",
   "execution_count": 88,
   "metadata": {},
   "outputs": [],
   "source": [
    "def compute_weighted_sum(attention_weights, V):\n",
    "    return np.dot(attention_weights, V)  # Weighted sum of values"
   ]
  },
  {
   "cell_type": "code",
   "execution_count": 89,
   "metadata": {},
   "outputs": [
    {
     "data": {
      "text/html": [
       "<pre style=\"white-space:pre;overflow-x:auto;line-height:normal;font-family:Menlo,'DejaVu Sans Mono',consolas,'Courier New',monospace\">\n",
       "Weighted Sum Output <span style=\"font-weight: bold\">(</span>Final Word Representations<span style=\"font-weight: bold\">)</span>:\n",
       "</pre>\n"
      ],
      "text/plain": [
       "\n",
       "Weighted Sum Output \u001b[1m(\u001b[0mFinal Word Representations\u001b[1m)\u001b[0m:\n"
      ]
     },
     "metadata": {},
     "output_type": "display_data"
    },
    {
     "data": {
      "text/html": [
       "<pre style=\"white-space:pre;overflow-x:auto;line-height:normal;font-family:Menlo,'DejaVu Sans Mono',consolas,'Courier New',monospace\"><span style=\"font-weight: bold\">[[</span><span style=\"color: #008080; text-decoration-color: #008080; font-weight: bold\">0.24576527</span> <span style=\"color: #008080; text-decoration-color: #008080; font-weight: bold\">0.74825409</span> <span style=\"color: #008080; text-decoration-color: #008080; font-weight: bold\">0.58413794</span><span style=\"font-weight: bold\">]</span>\n",
       " <span style=\"font-weight: bold\">[</span><span style=\"color: #008080; text-decoration-color: #008080; font-weight: bold\">0.27788296</span> <span style=\"color: #008080; text-decoration-color: #008080; font-weight: bold\">0.71193924</span> <span style=\"color: #008080; text-decoration-color: #008080; font-weight: bold\">0.57300607</span><span style=\"font-weight: bold\">]</span>\n",
       " <span style=\"font-weight: bold\">[</span><span style=\"color: #008080; text-decoration-color: #008080; font-weight: bold\">0.89999935</span> <span style=\"color: #008080; text-decoration-color: #008080; font-weight: bold\">0.10000055</span> <span style=\"color: #008080; text-decoration-color: #008080; font-weight: bold\">0.30000064</span><span style=\"font-weight: bold\">]</span>\n",
       " <span style=\"font-weight: bold\">[</span><span style=\"color: #008080; text-decoration-color: #008080; font-weight: bold\">0.37057317</span> <span style=\"color: #008080; text-decoration-color: #008080; font-weight: bold\">0.55107184</span> <span style=\"color: #008080; text-decoration-color: #008080; font-weight: bold\">0.82120209</span><span style=\"font-weight: bold\">]]</span>\n",
       "</pre>\n"
      ],
      "text/plain": [
       "\u001b[1m[\u001b[0m\u001b[1m[\u001b[0m\u001b[1;36m0.24576527\u001b[0m \u001b[1;36m0.74825409\u001b[0m \u001b[1;36m0.58413794\u001b[0m\u001b[1m]\u001b[0m\n",
       " \u001b[1m[\u001b[0m\u001b[1;36m0.27788296\u001b[0m \u001b[1;36m0.71193924\u001b[0m \u001b[1;36m0.57300607\u001b[0m\u001b[1m]\u001b[0m\n",
       " \u001b[1m[\u001b[0m\u001b[1;36m0.89999935\u001b[0m \u001b[1;36m0.10000055\u001b[0m \u001b[1;36m0.30000064\u001b[0m\u001b[1m]\u001b[0m\n",
       " \u001b[1m[\u001b[0m\u001b[1;36m0.37057317\u001b[0m \u001b[1;36m0.55107184\u001b[0m \u001b[1;36m0.82120209\u001b[0m\u001b[1m]\u001b[0m\u001b[1m]\u001b[0m\n"
      ]
     },
     "metadata": {},
     "output_type": "display_data"
    }
   ],
   "source": [
    "value_vectors = np.array([\n",
    "    [0.2, 0.8, 0.6],  # \"cat\"\n",
    "    [0.3, 0.7, 0.5],  # \"dog\"\n",
    "    [0.9, 0.1, 0.3],  # \"table\"\n",
    "    [0.4, 0.5, 0.9]   # \"sit\"\n",
    "])\n",
    "\n",
    "weighted_output = compute_weighted_sum(softmax_scores, value_vectors)\n",
    "print(\"\\nWeighted Sum Output (Final Word Representations):\")\n",
    "print(weighted_output)\n"
   ]
  },
  {
   "cell_type": "markdown",
   "metadata": {},
   "source": [
    "# Step 4: Putting it all together\n",
    "\n",
    "\n",
    "Now, we bring all the steps together to compute the final self-attention output.\n",
    "\n",
    "In our chatbot example, each word in a sentence (Q) looks for relevant context (K) to form a better representation (V).\n",
    "We generate random embeddings to simulate a sentence where each word is represented as a vector.\n",
    "\n",
    "$$ Attention(Q, K, V) = softmax(\\frac{QK^T}{\\sqrt{d_k}}) V $$\n",
    "\n",
    "Where:"
   ]
  },
  {
   "cell_type": "code",
   "execution_count": 90,
   "metadata": {},
   "outputs": [],
   "source": [
    "def scaled_dot_product_attention(Q, K, V, d_k):\n",
    "    scores = compute_scaled_attention_scores(Q, K, d_k)  # Step 1: Calculate attention scores\n",
    "    attention_weights = softmax(scores)  # Step 2: Normalize scores\n",
    "    output = compute_weighted_sum(attention_weights, V)  # Step 3: Compute weighted sum\n",
    "    return output, attention_weights\n"
   ]
  },
  {
   "cell_type": "code",
   "execution_count": 91,
   "metadata": {},
   "outputs": [
    {
     "data": {
      "text/html": [
       "<pre style=\"white-space:pre;overflow-x:auto;line-height:normal;font-family:Menlo,'DejaVu Sans Mono',consolas,'Courier New',monospace\">\n",
       "Attention Weights <span style=\"font-weight: bold\">(</span>Relevance of words to each other<span style=\"font-weight: bold\">)</span>:\n",
       "</pre>\n"
      ],
      "text/plain": [
       "\n",
       "Attention Weights \u001b[1m(\u001b[0mRelevance of words to each other\u001b[1m)\u001b[0m:\n"
      ]
     },
     "metadata": {},
     "output_type": "display_data"
    },
    {
     "data": {
      "text/html": [
       "<pre style=\"white-space:pre;overflow-x:auto;line-height:normal;font-family:Menlo,'DejaVu Sans Mono',consolas,'Courier New',monospace\"><span style=\"font-weight: bold\">[[</span><span style=\"color: #008080; text-decoration-color: #008080; font-weight: bold\">0.55163714</span> <span style=\"color: #008080; text-decoration-color: #008080; font-weight: bold\">0.16507099</span> <span style=\"color: #008080; text-decoration-color: #008080; font-weight: bold\">0.12447132</span> <span style=\"color: #008080; text-decoration-color: #008080; font-weight: bold\">0.15882055</span><span style=\"font-weight: bold\">]</span>\n",
       " <span style=\"font-weight: bold\">[</span><span style=\"color: #008080; text-decoration-color: #008080; font-weight: bold\">0.16208543</span> <span style=\"color: #008080; text-decoration-color: #008080; font-weight: bold\">0.2395443</span>  <span style=\"color: #008080; text-decoration-color: #008080; font-weight: bold\">0.28640226</span> <span style=\"color: #008080; text-decoration-color: #008080; font-weight: bold\">0.31196801</span><span style=\"font-weight: bold\">]</span>\n",
       " <span style=\"font-weight: bold\">[</span><span style=\"color: #008080; text-decoration-color: #008080; font-weight: bold\">0.53772785</span> <span style=\"color: #008080; text-decoration-color: #008080; font-weight: bold\">0.09163498</span> <span style=\"color: #008080; text-decoration-color: #008080; font-weight: bold\">0.1392443</span>  <span style=\"color: #008080; text-decoration-color: #008080; font-weight: bold\">0.23139287</span><span style=\"font-weight: bold\">]</span>\n",
       " <span style=\"font-weight: bold\">[</span><span style=\"color: #008080; text-decoration-color: #008080; font-weight: bold\">0.06966257</span> <span style=\"color: #008080; text-decoration-color: #008080; font-weight: bold\">0.61796892</span> <span style=\"color: #008080; text-decoration-color: #008080; font-weight: bold\">0.20167231</span> <span style=\"color: #008080; text-decoration-color: #008080; font-weight: bold\">0.11069621</span><span style=\"font-weight: bold\">]]</span>\n",
       "</pre>\n"
      ],
      "text/plain": [
       "\u001b[1m[\u001b[0m\u001b[1m[\u001b[0m\u001b[1;36m0.55163714\u001b[0m \u001b[1;36m0.16507099\u001b[0m \u001b[1;36m0.12447132\u001b[0m \u001b[1;36m0.15882055\u001b[0m\u001b[1m]\u001b[0m\n",
       " \u001b[1m[\u001b[0m\u001b[1;36m0.16208543\u001b[0m \u001b[1;36m0.2395443\u001b[0m  \u001b[1;36m0.28640226\u001b[0m \u001b[1;36m0.31196801\u001b[0m\u001b[1m]\u001b[0m\n",
       " \u001b[1m[\u001b[0m\u001b[1;36m0.53772785\u001b[0m \u001b[1;36m0.09163498\u001b[0m \u001b[1;36m0.1392443\u001b[0m  \u001b[1;36m0.23139287\u001b[0m\u001b[1m]\u001b[0m\n",
       " \u001b[1m[\u001b[0m\u001b[1;36m0.06966257\u001b[0m \u001b[1;36m0.61796892\u001b[0m \u001b[1;36m0.20167231\u001b[0m \u001b[1;36m0.11069621\u001b[0m\u001b[1m]\u001b[0m\u001b[1m]\u001b[0m\n"
      ]
     },
     "metadata": {},
     "output_type": "display_data"
    },
    {
     "data": {
      "text/html": [
       "<pre style=\"white-space:pre;overflow-x:auto;line-height:normal;font-family:Menlo,'DejaVu Sans Mono',consolas,'Courier New',monospace\">\n",
       "Final Word Representations After Attention:\n",
       "</pre>\n"
      ],
      "text/plain": [
       "\n",
       "Final Word Representations After Attention:\n"
      ]
     },
     "metadata": {},
     "output_type": "display_data"
    },
    {
     "data": {
      "text/html": [
       "<pre style=\"white-space:pre;overflow-x:auto;line-height:normal;font-family:Menlo,'DejaVu Sans Mono',consolas,'Courier New',monospace\"><span style=\"font-weight: bold\">[[</span><span style=\"color: #008080; text-decoration-color: #008080; font-weight: bold\">-0.35667894</span>  <span style=\"color: #008080; text-decoration-color: #008080; font-weight: bold\">0.3682607</span>  <span style=\"color: #008080; text-decoration-color: #008080; font-weight: bold\">-0.32647041</span>  <span style=\"color: #008080; text-decoration-color: #008080; font-weight: bold\">1.59660508</span><span style=\"font-weight: bold\">]</span>\n",
       " <span style=\"font-weight: bold\">[</span><span style=\"color: #008080; text-decoration-color: #008080; font-weight: bold\">-0.34862564</span>  <span style=\"color: #008080; text-decoration-color: #008080; font-weight: bold\">0.47489483</span> <span style=\"color: #008080; text-decoration-color: #008080; font-weight: bold\">-0.19276363</span>  <span style=\"color: #008080; text-decoration-color: #008080; font-weight: bold\">1.57285549</span><span style=\"font-weight: bold\">]</span>\n",
       " <span style=\"font-weight: bold\">[</span><span style=\"color: #008080; text-decoration-color: #008080; font-weight: bold\">-0.22956324</span>  <span style=\"color: #008080; text-decoration-color: #008080; font-weight: bold\">0.23570726</span> <span style=\"color: #008080; text-decoration-color: #008080; font-weight: bold\">-0.3065945</span>   <span style=\"color: #008080; text-decoration-color: #008080; font-weight: bold\">1.56186642</span><span style=\"font-weight: bold\">]</span>\n",
       " <span style=\"font-weight: bold\">[</span><span style=\"color: #008080; text-decoration-color: #008080; font-weight: bold\">-1.09423218</span>  <span style=\"color: #008080; text-decoration-color: #008080; font-weight: bold\">1.01812449</span> <span style=\"color: #008080; text-decoration-color: #008080; font-weight: bold\">-0.352135</span>    <span style=\"color: #008080; text-decoration-color: #008080; font-weight: bold\">1.61989783</span><span style=\"font-weight: bold\">]]</span>\n",
       "</pre>\n"
      ],
      "text/plain": [
       "\u001b[1m[\u001b[0m\u001b[1m[\u001b[0m\u001b[1;36m-0.35667894\u001b[0m  \u001b[1;36m0.3682607\u001b[0m  \u001b[1;36m-0.32647041\u001b[0m  \u001b[1;36m1.59660508\u001b[0m\u001b[1m]\u001b[0m\n",
       " \u001b[1m[\u001b[0m\u001b[1;36m-0.34862564\u001b[0m  \u001b[1;36m0.47489483\u001b[0m \u001b[1;36m-0.19276363\u001b[0m  \u001b[1;36m1.57285549\u001b[0m\u001b[1m]\u001b[0m\n",
       " \u001b[1m[\u001b[0m\u001b[1;36m-0.22956324\u001b[0m  \u001b[1;36m0.23570726\u001b[0m \u001b[1;36m-0.3065945\u001b[0m   \u001b[1;36m1.56186642\u001b[0m\u001b[1m]\u001b[0m\n",
       " \u001b[1m[\u001b[0m\u001b[1;36m-1.09423218\u001b[0m  \u001b[1;36m1.01812449\u001b[0m \u001b[1;36m-0.352135\u001b[0m    \u001b[1;36m1.61989783\u001b[0m\u001b[1m]\u001b[0m\u001b[1m]\u001b[0m\n"
      ]
     },
     "metadata": {},
     "output_type": "display_data"
    }
   ],
   "source": [
    "# Example scenario: Processing a sentence with self-attention\n",
    "np.random.seed(43)  # For reproducibility\n",
    "\n",
    "d_k = 4  # Dimension of key/query/value vectors\n",
    "num_words = 4  # Using \"cat\", \"dog\", \"table\", \"sit\"\n",
    "\n",
    "# Simulating random embeddings for the words in our example\n",
    "Q = np.random.randn(num_words, d_k)\n",
    "K = np.random.randn(num_words, d_k)\n",
    "V = np.random.randn(num_words, d_k)\n",
    "\n",
    "# Compute self-attention manually\n",
    "output, attention_weights = scaled_dot_product_attention(Q, K, V, d_k)\n",
    "\n",
    "print(\"\\nAttention Weights (Relevance of words to each other):\")\n",
    "print(attention_weights)\n",
    "print(\"\\nFinal Word Representations After Attention:\")\n",
    "print(output)\n",
    "\n"
   ]
  },
  {
   "cell_type": "markdown",
   "metadata": {},
   "source": [
    "The final output of attention is a new set of word representations, computed as a weighted sum of the Value (V) vectors.\n",
    "These updated representations capture **contextual meaning**—a word now carries information about other related words.\n",
    "\n",
    "However, this transformation happens in **high-dimensional space**, making it difficult to visualize directly.\n",
    "One way to approximate these changes is by reducing the dimensions (e.g., PCA, t-SNE), but for now let's focus on the core concepts of attention."
   ]
  },
  {
   "cell_type": "code",
   "execution_count": 92,
   "metadata": {},
   "outputs": [
    {
     "data": {
      "image/png": "[encoded data removed]",
      "text/plain": [
       "<Figure size 600x500 with 2 Axes>"
      ]
     },
     "metadata": {},
     "output_type": "display_data"
    }
   ],
   "source": [
    "plt.figure(figsize=(6, 5))\n",
    "ax = sns.heatmap(attention_weights, annot=True, cmap=\"Blues\", xticklabels=words, yticklabels=words, cbar=True)\n",
    "\n",
    "# Highlight the max value per row (strongest attention)\n",
    "for i in range(attention_weights.shape[0]):\n",
    "    max_index = np.argmax(attention_weights[i])\n",
    "    ax.add_patch(plt.Rectangle((max_index, i), 1, 1, fill=False, edgecolor='red', lw=2))\n",
    "\n",
    "plt.xlabel(\"Keys (Words Being Attended To)\")\n",
    "plt.ylabel(\"Queries (Words Paying Attention)\")\n",
    "plt.title(\"Enhanced Attention Heatmap: Focus of Each Word\")\n",
    "plt.show()\n"
   ]
  },
  {
   "cell_type": "markdown",
   "metadata": {},
   "source": [
    "At this stage weve seen how self attention dynamically determines the relevance of words in a sentence to each other. The attention weights show how much focus each word should place on another, and the final word representations (output vectors) are weighted combinations of the values (V), which encode contextual meaning.\n",
    "\n",
    "However, there is still one limitation:\n",
    "\n",
    "Our attention mechanism is operating in a single representation space. But in reality, words can have multiple nuanced relationships. For example, in \"The cat sat on the mat,\" \"cat\" might be related to \"mat\" spatially, but also to \"sat\" in terms of action.\n",
    "\n",
    "This is where Multi-Head Attention comes in! Instead of computing a single set of attention scores, we compute multiple sets (heads), each capturing different aspects of meaning.\n",
    "\n",
    "In the next notebook, we'll explore how Multi-Head Attention enhances self-attention by allowing the model to attend to multiple representations simultaneously."
   ]
  }
 ],
 "metadata": {
  "kernelspec": {
   "display_name": "Python 3",
   "language": "python",
   "name": "python3"
  },
  "language_info": {
   "codemirror_mode": {
    "name": "ipython",
    "version": 3
   },
   "file_extension": ".py",
   "mimetype": "text/x-python",
   "name": "python",
   "nbconvert_exporter": "python",
   "pygments_lexer": "ipython3",
   "version": "3.8.10"
  }
 },
 "nbformat": 4,
 "nbformat_minor": 2
}
